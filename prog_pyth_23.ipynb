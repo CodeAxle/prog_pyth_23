{
 "cells": [
  {
   "cell_type": "markdown",
   "id": "5d1dcdcd",
   "metadata": {},
   "source": [
    "# 1."
   ]
  },
  {
   "cell_type": "code",
   "execution_count": 2,
   "id": "f446b98c",
   "metadata": {},
   "outputs": [
    {
     "name": "stdout",
     "output_type": "stream",
     "text": [
      "True\n",
      "False\n"
     ]
    }
   ],
   "source": [
    "# code:\n",
    "def is_symmetrical(num):\n",
    "    # Convert the number to a string and check if it's equal to its reverse\n",
    "    return str(num) == str(num)[::-1]\n",
    "\n",
    "# Examples\n",
    "print(is_symmetrical(7227)) \n",
    "print(is_symmetrical(12567))  "
   ]
  },
  {
   "cell_type": "markdown",
   "id": "86cbd63d",
   "metadata": {},
   "source": [
    "# 2."
   ]
  },
  {
   "cell_type": "code",
   "execution_count": 3,
   "id": "96531a10",
   "metadata": {},
   "outputs": [
    {
     "name": "stdout",
     "output_type": "stream",
     "text": [
      "24\n"
     ]
    }
   ],
   "source": [
    "# code:\n",
    "def multiply_nums(nums_str):\n",
    "    # Split the string by comma and space to get individual numbers\n",
    "    nums_list = nums_str.split(', ')\n",
    "    \n",
    "    # Initialize the product to 1\n",
    "    product = 1\n",
    "    \n",
    "    # Multiply each number in the list with the product\n",
    "    for num in nums_list:\n",
    "        product *= int(num)\n",
    "    \n",
    "    return product\n",
    "\n",
    "# Example:\n",
    "print(multiply_nums(\"1, 2, 3, 4\"))  "
   ]
  },
  {
   "cell_type": "markdown",
   "id": "28f5752a",
   "metadata": {},
   "source": [
    "# 3."
   ]
  },
  {
   "cell_type": "code",
   "execution_count": 4,
   "id": "0e4b91de",
   "metadata": {},
   "outputs": [
    {
     "name": "stdout",
     "output_type": "stream",
     "text": [
      "811181\n"
     ]
    }
   ],
   "source": [
    "# code:\n",
    "def square_digits(num):\n",
    "    # Convert the number to a string to access individual digits\n",
    "    num_str = str(num)\n",
    "    \n",
    "    # Initialize an empty string to store squared digits\n",
    "    squared_digits_str = \"\"\n",
    "    \n",
    "    # Iterate through each digit in the string\n",
    "    for digit in num_str:\n",
    "        # Square the digit, convert back to string, and append to squared_digits_str\n",
    "        squared_digits_str += str(int(digit) ** 2)\n",
    "    \n",
    "    # Convert the squared_digits_str back to an integer and return\n",
    "    return int(squared_digits_str)\n",
    "\n",
    "# Example:\n",
    "print(square_digits(9119))  "
   ]
  },
  {
   "cell_type": "markdown",
   "id": "a644a6c1",
   "metadata": {},
   "source": [
    "# 4."
   ]
  },
  {
   "cell_type": "code",
   "execution_count": 6,
   "id": "c30c0ff1",
   "metadata": {},
   "outputs": [
    {
     "name": "stdout",
     "output_type": "stream",
     "text": [
      "[5, 7, 8, 9, 10, 15]\n"
     ]
    }
   ],
   "source": [
    "# code:\n",
    "def setify(lst):\n",
    "    # Sort the list and convert it to a set to remove duplicates, then convert back to a list\n",
    "    sorted_unique_lst = list(set(sorted(lst)))\n",
    "    return sorted_unique_lst\n",
    "\n",
    "# Example:\n",
    "print(setify([5, 7, 8, 9, 10, 15])) "
   ]
  },
  {
   "cell_type": "markdown",
   "id": "0ec74979",
   "metadata": {},
   "source": [
    "# 5."
   ]
  },
  {
   "cell_type": "code",
   "execution_count": 7,
   "id": "03b80996",
   "metadata": {},
   "outputs": [
    {
     "name": "stdout",
     "output_type": "stream",
     "text": [
      "3\n"
     ]
    }
   ],
   "source": [
    "# code:\n",
    "def mean(num):\n",
    "    # Convert the number to a string to iterate through its digits\n",
    "    num_str = str(num)\n",
    "    \n",
    "    # Calculate the sum of digits and the count of digits\n",
    "    sum_digits = sum(int(digit) for digit in num_str)\n",
    "    count_digits = len(num_str)\n",
    "    \n",
    "    # Calculate the mean and return it as an integer\n",
    "    mean_value = sum_digits // count_digits\n",
    "    return mean_value\n",
    "\n",
    "# Example:\n",
    "print(mean(12345))  "
   ]
  },
  {
   "cell_type": "code",
   "execution_count": null,
   "id": "8d038199",
   "metadata": {},
   "outputs": [],
   "source": []
  }
 ],
 "metadata": {
  "kernelspec": {
   "display_name": "Python 3 (ipykernel)",
   "language": "python",
   "name": "python3"
  },
  "language_info": {
   "codemirror_mode": {
    "name": "ipython",
    "version": 3
   },
   "file_extension": ".py",
   "mimetype": "text/x-python",
   "name": "python",
   "nbconvert_exporter": "python",
   "pygments_lexer": "ipython3",
   "version": "3.11.5"
  }
 },
 "nbformat": 4,
 "nbformat_minor": 5
}
